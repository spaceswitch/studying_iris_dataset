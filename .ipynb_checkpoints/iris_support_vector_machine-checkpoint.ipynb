{
 "cells": [
  {
   "cell_type": "code",
   "execution_count": 16,
   "metadata": {},
   "outputs": [
    {
     "data": {
      "text/plain": [
       "'%.3f'"
      ]
     },
     "execution_count": 16,
     "metadata": {},
     "output_type": "execute_result"
    }
   ],
   "source": [
    "# データ加工・処理・分析ライブラリ\n",
    "import numpy as np\n",
    "import numpy.random as random\n",
    "import scipy as sp\n",
    "from pandas import Series, DataFrame\n",
    "import pandas as pd\n",
    "from sklearn.preprocessing import StandardScaler\n",
    "from sklearn.svm import LinearSVC\n",
    "from sklearn.model_selection import GridSearchCV\n",
    "from sklearn.svm import SVC\n",
    "\n",
    "# 可視化ライブラリ\n",
    "import matplotlib.pyplot as plt\n",
    "import matplotlib as mpl\n",
    "import seaborn as sns; sns.set()\n",
    "%matplotlib inline\n",
    "\n",
    "# 機械学習ライブラリ\n",
    "import sklearn\n",
    "from sklearn.model_selection import train_test_split\n",
    "\n",
    "# 小数第3位まで表示\n",
    "%precision 3"
   ]
  },
  {
   "cell_type": "code",
   "execution_count": 17,
   "metadata": {},
   "outputs": [],
   "source": [
    "# pandas の設定を調整 \n",
    "pd.set_option('display.max_rows', 500)\n",
    "pd.set_option('display.max_columns', 50)\n",
    "\n",
    "# matplotlib の設定を調整   \n",
    "plt.rcParams[\"figure.figsize\"] = [18, 10]\n",
    "plt.rcParams['font.size'] = 16 #フォントサイズを設定 default : 12\n",
    "plt.rcParams['xtick.labelsize'] = 14 # 横軸のフォントサイズ\n",
    "plt.rcParams['ytick.labelsize'] = 14"
   ]
  },
  {
   "cell_type": "code",
   "execution_count": 18,
   "metadata": {},
   "outputs": [],
   "source": [
    "iris = sns.load_dataset('iris')"
   ]
  },
  {
   "cell_type": "code",
   "execution_count": 19,
   "metadata": {},
   "outputs": [],
   "source": [
    "iris['fin_flg'] = iris['species'].map(lambda x: 0 if x=='setosa' else 1 if x=='versicolor' else 2)"
   ]
  },
  {
   "cell_type": "code",
   "execution_count": 20,
   "metadata": {},
   "outputs": [
    {
     "name": "stdout",
     "output_type": "stream",
     "text": [
      "正解率(train):0.947\n",
      "正解率(test):0.933\n"
     ]
    }
   ],
   "source": [
    "# 標準化したサポートベクターマシン\n",
    "X = iris[['sepal_length','sepal_width','petal_width']]\n",
    "y = iris['fin_flg']\n",
    "X_train,X_test,y_train,y_test = train_test_split(X,y,random_state=0,test_size=0.5,stratify=y)\n",
    "\n",
    "sc = StandardScaler()\n",
    "sc.fit(X_train)\n",
    "X_train_std = sc.transform(X_train)\n",
    "X_test_std = sc.transform(X_test)\n",
    "\n",
    "model = LinearSVC()\n",
    "model.fit(X_train_std,y_train)\n",
    "\n",
    "print('正解率(train):{:.3f}' . format(model.score(X_train_std,y_train)))\n",
    "print('正解率(test):{:.3f}' . format(model.score(X_test_std,y_test)))"
   ]
  },
  {
   "cell_type": "code",
   "execution_count": 24,
   "metadata": {},
   "outputs": [
    {
     "name": "stdout",
     "output_type": "stream",
     "text": [
      "best cross validation score:0.973\n",
      "best parameters:{'C': 10.0, 'gamma': 0.1}\n",
      "test score:0.947\n"
     ]
    }
   ],
   "source": [
    "# SVCクラスのグリッドサーチ\n",
    "X = iris[['sepal_length','sepal_width','petal_width']]\n",
    "y = iris['fin_flg']\n",
    "X_train,X_test,y_train,y_test = train_test_split(X,y,random_state=0,test_size=0.5,stratify=y)\n",
    "\n",
    "param_grid = {'C':np.logspace(-3,2,num=6)\n",
    "             ,'gamma':np.logspace(-3,2,num=6)}\n",
    "\n",
    "gs = GridSearchCV(estimator=SVC(),\n",
    "                 param_grid=param_grid,\n",
    "                 cv=5)\n",
    "\n",
    "gs.fit(X_train,y_train)\n",
    "print('best cross validation score:{:.3f}' . format(gs.best_score_))\n",
    "print('best parameters:{}' . format(gs.best_params_))\n",
    "print('test score:{:.3f}' . format(gs.score(X_test,y_test)))"
   ]
  },
  {
   "cell_type": "code",
   "execution_count": 26,
   "metadata": {},
   "outputs": [
    {
     "name": "stdout",
     "output_type": "stream",
     "text": [
      "正解率(train):0.987\n",
      "正解率(test):0.947\n"
     ]
    }
   ],
   "source": [
    "# SVC\n",
    "X = iris[['sepal_length','sepal_width','petal_width']]\n",
    "y = iris['fin_flg']\n",
    "X_train,X_test,y_train,y_test = train_test_split(X,y,random_state=0,test_size=0.5,stratify=y)\n",
    "\n",
    "# sc = StandardScaler()\n",
    "# sc.fit(X_train)\n",
    "# X_train_std = sc.transform(X_train)\n",
    "# X_test_std = sc.transform(X_test)\n",
    "\n",
    "model = SVC(gamma=0.1,C=10.0)\n",
    "model.fit(X_train,y_train)\n",
    "\n",
    "print('正解率(train):{:.3f}' . format(model.score(X_train,y_train)))\n",
    "print('正解率(test):{:.3f}' . format(model.score(X_test,y_test)))"
   ]
  },
  {
   "cell_type": "code",
   "execution_count": null,
   "metadata": {},
   "outputs": [],
   "source": []
  }
 ],
 "metadata": {
  "kernelspec": {
   "display_name": "Python 3",
   "language": "python",
   "name": "python3"
  },
  "language_info": {
   "codemirror_mode": {
    "name": "ipython",
    "version": 3
   },
   "file_extension": ".py",
   "mimetype": "text/x-python",
   "name": "python",
   "nbconvert_exporter": "python",
   "pygments_lexer": "ipython3",
   "version": "3.8.2"
  }
 },
 "nbformat": 4,
 "nbformat_minor": 4
}
